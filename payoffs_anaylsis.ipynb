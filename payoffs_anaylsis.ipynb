{
 "cells": [
  {
   "cell_type": "code",
   "execution_count": 1,
   "metadata": {},
   "outputs": [],
   "source": [
    "import pandas as pd\n",
    "import numpy as np\n",
    "import matplotlib.pyplot as plt \n",
    "import collections\n",
    "import copy\n",
    "import scipy.stats as stats"
   ]
  },
  {
   "cell_type": "code",
   "execution_count": 2,
   "metadata": {},
   "outputs": [],
   "source": [
    "s_payoff = pd.read_csv(\"s_choice_payoff.csv\")\n",
    "w_payoff = pd.read_csv(\"w_choice_payoff.csv\")"
   ]
  },
  {
   "cell_type": "code",
   "execution_count": 3,
   "metadata": {},
   "outputs": [],
   "source": [
    "stag_payoff = s_payoff.loc[s_payoff[\"Choice\"] == \"Hunt stag\"]\n",
    "hare_payoff = s_payoff.loc[s_payoff[\"Choice\"] == \"Hunt hare\"]"
   ]
  },
  {
   "cell_type": "code",
   "execution_count": 4,
   "metadata": {},
   "outputs": [
    {
     "name": "stdout",
     "output_type": "stream",
     "text": [
      "0.7538461538461538\n",
      "0.7999999999999999\n"
     ]
    }
   ],
   "source": [
    "print(np.mean(stag_payoff[\"Payoff\"]))\n",
    "print(np.mean(hare_payoff[\"Payoff\"]))"
   ]
  },
  {
   "cell_type": "code",
   "execution_count": 6,
   "metadata": {},
   "outputs": [
    {
     "data": {
      "text/plain": [
       "Text(0, 0.5, 'Payoff ($)')"
      ]
     },
     "execution_count": 6,
     "metadata": {},
     "output_type": "execute_result"
    },
    {
     "data": {
      "image/png": "[encoded data removed]",
      "text/plain": [
       "<Figure size 640x480 with 1 Axes>"
      ]
     },
     "metadata": {},
     "output_type": "display_data"
    }
   ],
   "source": [
    "plt.bar([\"Stag\", \"Hare\"], [np.mean(stag_payoff[\"Payoff\"]), np.mean(hare_payoff[\"Payoff\"])])\n",
    "plt.ylabel(\"Payoff ($)\")"
   ]
  },
  {
   "cell_type": "code",
   "execution_count": 7,
   "metadata": {},
   "outputs": [
    {
     "name": "stderr",
     "output_type": "stream",
     "text": [
      "C:\\Users\\20xha\\AppData\\Local\\Temp\\ipykernel_24632\\3454987761.py:1: RuntimeWarning: Precision loss occurred in moment calculation due to catastrophic cancellation. This occurs when the data are nearly identical. Results may be unreliable.\n",
      "  stats.ttest_ind(stag_payoff[\"Payoff\"], hare_payoff[\"Payoff\"])\n"
     ]
    },
    {
     "data": {
      "text/plain": [
       "Ttest_indResult(statistic=-0.7381254416575164, pvalue=0.4614212878040258)"
      ]
     },
     "execution_count": 7,
     "metadata": {},
     "output_type": "execute_result"
    }
   ],
   "source": [
    "stats.ttest_ind(stag_payoff[\"Payoff\"], hare_payoff[\"Payoff\"])"
   ]
  },
  {
   "cell_type": "code",
   "execution_count": 11,
   "metadata": {},
   "outputs": [],
   "source": [
    "w_1_payoff = w_payoff.loc[w_payoff[\"Choice\"] == 1]\n",
    "w_2_payoff = w_payoff.loc[w_payoff[\"Choice\"] == 2]\n",
    "w_3_payoff = w_payoff.loc[w_payoff[\"Choice\"] == 3]\n",
    "w_4_payoff = w_payoff.loc[w_payoff[\"Choice\"] == 4]\n",
    "w_5_payoff = w_payoff.loc[w_payoff[\"Choice\"] == 5]\n",
    "w_6_payoff = w_payoff.loc[w_payoff[\"Choice\"] == 6]\n",
    "w_7_payoff = w_payoff.loc[w_payoff[\"Choice\"] == 7]"
   ]
  },
  {
   "cell_type": "code",
   "execution_count": 9,
   "metadata": {},
   "outputs": [
    {
     "name": "stderr",
     "output_type": "stream",
     "text": [
      "C:\\Users\\20xha\\AppData\\Local\\Temp\\ipykernel_24632\\642415097.py:1: RuntimeWarning: Precision loss occurred in moment calculation due to catastrophic cancellation. This occurs when the data are nearly identical. Results may be unreliable.\n",
      "  stats.ttest_ind(w_1_payoff[\"Payoff\"], w_7_payoff[\"Payoff\"])\n"
     ]
    },
    {
     "data": {
      "text/plain": [
       "Ttest_indResult(statistic=4.743552086850239, pvalue=6.461837424127901e-06)"
      ]
     },
     "execution_count": 9,
     "metadata": {},
     "output_type": "execute_result"
    }
   ],
   "source": [
    "stats.ttest_ind(w_1_payoff[\"Payoff\"], w_7_payoff[\"Payoff\"])"
   ]
  },
  {
   "cell_type": "code",
   "execution_count": 12,
   "metadata": {},
   "outputs": [
    {
     "name": "stdout",
     "output_type": "stream",
     "text": [
      "0.6999999999999998\n",
      "0.3697674418604651\n"
     ]
    }
   ],
   "source": [
    "print(np.mean(w_1_payoff[\"Payoff\"]))\n",
    "print(np.mean(w_7_payoff[\"Payoff\"]))\n",
    "payoff_array = [np.mean(w_1_payoff[\"Payoff\"]), np.mean(w_2_payoff[\"Payoff\"]), np.mean(w_3_payoff[\"Payoff\"]), np.mean(w_4_payoff[\"Payoff\"]), np.mean(w_5_payoff[\"Payoff\"]), np.mean(w_6_payoff[\"Payoff\"]), np.mean(w_7_payoff[\"Payoff\"])]"
   ]
  },
  {
   "cell_type": "code",
   "execution_count": 13,
   "metadata": {},
   "outputs": [
    {
     "data": {
      "text/plain": [
       "Text(0, 0.5, 'Payoff ($)')"
      ]
     },
     "execution_count": 13,
     "metadata": {},
     "output_type": "execute_result"
    },
    {
     "data": {
      "image/png": "[encoded data removed]",
      "text/plain": [
       "<Figure size 640x480 with 1 Axes>"
      ]
     },
     "metadata": {},
     "output_type": "display_data"
    }
   ],
   "source": [
    "plt.bar(range(1,8), payoff_array)\n",
    "plt.ylabel(\"Payoff ($)\")"
   ]
  },
  {
   "cell_type": "code",
   "execution_count": null,
   "metadata": {},
   "outputs": [],
   "source": []
  }
 ],
 "metadata": {
  "kernelspec": {
   "display_name": "ay-ge_107",
   "language": "python",
   "name": "python3"
  },
  "language_info": {
   "codemirror_mode": {
    "name": "ipython",
    "version": 3
   },
   "file_extension": ".py",
   "mimetype": "text/x-python",
   "name": "python",
   "nbconvert_exporter": "python",
   "pygments_lexer": "ipython3",
   "version": "3.10.9"
  }
 },
 "nbformat": 4,
 "nbformat_minor": 2
}
