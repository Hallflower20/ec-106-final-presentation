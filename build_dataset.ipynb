{
 "cells": [
  {
   "cell_type": "code",
   "execution_count": 78,
   "metadata": {},
   "outputs": [],
   "source": [
    "import pandas as pd\n",
    "import numpy as np\n",
    "import matplotlib.pyplot as plt \n",
    "import collections\n",
    "import copy\n",
    "import scipy.stats as stats"
   ]
  },
  {
   "cell_type": "code",
   "execution_count": 61,
   "metadata": {},
   "outputs": [],
   "source": [
    "data = pd.read_csv(\"Charisma_November 28, 2023_20.03.csv\")\n",
    "demographics = pd.read_csv(\"prolific_export_65669403569a039c1a638bac.csv\")\n",
    "demographics_real = demographics.loc[demographics[\"Status\"] == \"AWAITING REVIEW\"]\n",
    "results = data.loc[:, [\"Q1\",\"Control1_First Click\",\"Control1_Last Click\",\"Control1_Page Submit\",\"Control1_Click Count\",\"V1Q_First Click\",\"V1Q_Last Click\",\"V1Q_Page Submit\",\"V1Q_Click Count\",\"V2Q_First Click\",\"V2Q_Last Click\",\"V2Q_Page Submit\",\"V2Q_Click Count\",\"V3Q_First Click\",\"V3Q_Last Click\",\"V3Q_Page Submit\",\"V3Q_Click Count\",\"V4Q_First Click\",\"V4Q_Last Click\",\"V4Q_Page Submit\",\"V4Q_Click Count\",\"R1Q_First Click\",\"R1Q_Last Click\",\"R1Q_Page Submit\",\"R1Q_Click Count\",\"R2Q_First Click\",\"R2Q_Last Click\",\"R2Q_Page Submit\",\"R2Q_Click Count\",\"R3Q_First Click\",\"R3Q_Last Click\",\"R3Q_Page Submit\",\"R3Q_Click Count\",\"R4Q_First Click\",\"R4Q_Last Click\",\"R4Q_Page Submit\",\"R4Q_Click Count\",\"Hunt Choice\",\"Weakest Link Choice\"]].set_index(\"Q1\")"
   ]
  },
  {
   "cell_type": "code",
   "execution_count": 62,
   "metadata": {},
   "outputs": [
    {
     "data": {
      "text/html": [
       "<div>\n",
       "<style scoped>\n",
       "    .dataframe tbody tr th:only-of-type {\n",
       "        vertical-align: middle;\n",
       "    }\n",
       "\n",
       "    .dataframe tbody tr th {\n",
       "        vertical-align: top;\n",
       "    }\n",
       "\n",
       "    .dataframe thead th {\n",
       "        text-align: right;\n",
       "    }\n",
       "</style>\n",
       "<table border=\"1\" class=\"dataframe\">\n",
       "  <thead>\n",
       "    <tr style=\"text-align: right;\">\n",
       "      <th></th>\n",
       "      <th>Control1_First Click</th>\n",
       "      <th>Control1_Last Click</th>\n",
       "      <th>Control1_Page Submit</th>\n",
       "      <th>Control1_Click Count</th>\n",
       "      <th>V1Q_First Click</th>\n",
       "      <th>V1Q_Last Click</th>\n",
       "      <th>V1Q_Page Submit</th>\n",
       "      <th>V1Q_Click Count</th>\n",
       "      <th>V2Q_First Click</th>\n",
       "      <th>V2Q_Last Click</th>\n",
       "      <th>...</th>\n",
       "      <th>Total approvals</th>\n",
       "      <th>Age</th>\n",
       "      <th>Sex</th>\n",
       "      <th>Ethnicity simplified</th>\n",
       "      <th>Country of birth</th>\n",
       "      <th>Country of residence</th>\n",
       "      <th>Nationality</th>\n",
       "      <th>Language</th>\n",
       "      <th>Student status</th>\n",
       "      <th>Employment status</th>\n",
       "    </tr>\n",
       "  </thead>\n",
       "  <tbody>\n",
       "    <tr>\n",
       "      <th>65649536de378d6c36a6266b</th>\n",
       "      <td>NaN</td>\n",
       "      <td>NaN</td>\n",
       "      <td>NaN</td>\n",
       "      <td>NaN</td>\n",
       "      <td>NaN</td>\n",
       "      <td>NaN</td>\n",
       "      <td>NaN</td>\n",
       "      <td>NaN</td>\n",
       "      <td>NaN</td>\n",
       "      <td>NaN</td>\n",
       "      <td>...</td>\n",
       "      <td>2</td>\n",
       "      <td>36</td>\n",
       "      <td>Female</td>\n",
       "      <td>Black</td>\n",
       "      <td>United States</td>\n",
       "      <td>United States</td>\n",
       "      <td>United States</td>\n",
       "      <td>English</td>\n",
       "      <td>No</td>\n",
       "      <td>Full-Time</td>\n",
       "    </tr>\n",
       "    <tr>\n",
       "      <th>57a8abb3dcff7d0001c7d5a3</th>\n",
       "      <td>NaN</td>\n",
       "      <td>NaN</td>\n",
       "      <td>NaN</td>\n",
       "      <td>NaN</td>\n",
       "      <td>NaN</td>\n",
       "      <td>NaN</td>\n",
       "      <td>NaN</td>\n",
       "      <td>NaN</td>\n",
       "      <td>NaN</td>\n",
       "      <td>NaN</td>\n",
       "      <td>...</td>\n",
       "      <td>544</td>\n",
       "      <td>29</td>\n",
       "      <td>Female</td>\n",
       "      <td>White</td>\n",
       "      <td>United States</td>\n",
       "      <td>United States</td>\n",
       "      <td>United States</td>\n",
       "      <td>English</td>\n",
       "      <td>No</td>\n",
       "      <td>DATA_EXPIRED</td>\n",
       "    </tr>\n",
       "    <tr>\n",
       "      <th>5589a309fdf99b7ae5007c33</th>\n",
       "      <td>NaN</td>\n",
       "      <td>NaN</td>\n",
       "      <td>NaN</td>\n",
       "      <td>NaN</td>\n",
       "      <td>NaN</td>\n",
       "      <td>NaN</td>\n",
       "      <td>NaN</td>\n",
       "      <td>NaN</td>\n",
       "      <td>0</td>\n",
       "      <td>0</td>\n",
       "      <td>...</td>\n",
       "      <td>1119</td>\n",
       "      <td>46</td>\n",
       "      <td>Male</td>\n",
       "      <td>White</td>\n",
       "      <td>United States</td>\n",
       "      <td>United States</td>\n",
       "      <td>United States</td>\n",
       "      <td>English</td>\n",
       "      <td>No</td>\n",
       "      <td>Full-Time</td>\n",
       "    </tr>\n",
       "    <tr>\n",
       "      <th>5bb9f9dad5330e000101a241</th>\n",
       "      <td>NaN</td>\n",
       "      <td>NaN</td>\n",
       "      <td>NaN</td>\n",
       "      <td>NaN</td>\n",
       "      <td>NaN</td>\n",
       "      <td>NaN</td>\n",
       "      <td>NaN</td>\n",
       "      <td>NaN</td>\n",
       "      <td>NaN</td>\n",
       "      <td>NaN</td>\n",
       "      <td>...</td>\n",
       "      <td>868</td>\n",
       "      <td>33</td>\n",
       "      <td>Female</td>\n",
       "      <td>Asian</td>\n",
       "      <td>United States</td>\n",
       "      <td>United States</td>\n",
       "      <td>United States</td>\n",
       "      <td>English</td>\n",
       "      <td>No</td>\n",
       "      <td>Full-Time</td>\n",
       "    </tr>\n",
       "    <tr>\n",
       "      <th>5bbe58e22b131d000183c317</th>\n",
       "      <td>0</td>\n",
       "      <td>0</td>\n",
       "      <td>1.19</td>\n",
       "      <td>0</td>\n",
       "      <td>NaN</td>\n",
       "      <td>NaN</td>\n",
       "      <td>NaN</td>\n",
       "      <td>NaN</td>\n",
       "      <td>NaN</td>\n",
       "      <td>NaN</td>\n",
       "      <td>...</td>\n",
       "      <td>1</td>\n",
       "      <td>DATA_EXPIRED</td>\n",
       "      <td>Male</td>\n",
       "      <td>DATA_EXPIRED</td>\n",
       "      <td>United States</td>\n",
       "      <td>United States</td>\n",
       "      <td>United States</td>\n",
       "      <td>English</td>\n",
       "      <td>No</td>\n",
       "      <td>DATA_EXPIRED</td>\n",
       "    </tr>\n",
       "  </tbody>\n",
       "</table>\n",
       "<p>5 rows × 56 columns</p>\n",
       "</div>"
      ],
      "text/plain": [
       "                         Control1_First Click Control1_Last Click  \\\n",
       "65649536de378d6c36a6266b                  NaN                 NaN   \n",
       "57a8abb3dcff7d0001c7d5a3                  NaN                 NaN   \n",
       "5589a309fdf99b7ae5007c33                  NaN                 NaN   \n",
       "5bb9f9dad5330e000101a241                  NaN                 NaN   \n",
       "5bbe58e22b131d000183c317                    0                   0   \n",
       "\n",
       "                         Control1_Page Submit Control1_Click Count  \\\n",
       "65649536de378d6c36a6266b                  NaN                  NaN   \n",
       "57a8abb3dcff7d0001c7d5a3                  NaN                  NaN   \n",
       "5589a309fdf99b7ae5007c33                  NaN                  NaN   \n",
       "5bb9f9dad5330e000101a241                  NaN                  NaN   \n",
       "5bbe58e22b131d000183c317                 1.19                    0   \n",
       "\n",
       "                         V1Q_First Click V1Q_Last Click V1Q_Page Submit  \\\n",
       "65649536de378d6c36a6266b             NaN            NaN             NaN   \n",
       "57a8abb3dcff7d0001c7d5a3             NaN            NaN             NaN   \n",
       "5589a309fdf99b7ae5007c33             NaN            NaN             NaN   \n",
       "5bb9f9dad5330e000101a241             NaN            NaN             NaN   \n",
       "5bbe58e22b131d000183c317             NaN            NaN             NaN   \n",
       "\n",
       "                         V1Q_Click Count V2Q_First Click V2Q_Last Click  ...  \\\n",
       "65649536de378d6c36a6266b             NaN             NaN            NaN  ...   \n",
       "57a8abb3dcff7d0001c7d5a3             NaN             NaN            NaN  ...   \n",
       "5589a309fdf99b7ae5007c33             NaN               0              0  ...   \n",
       "5bb9f9dad5330e000101a241             NaN             NaN            NaN  ...   \n",
       "5bbe58e22b131d000183c317             NaN             NaN            NaN  ...   \n",
       "\n",
       "                         Total approvals           Age     Sex  \\\n",
       "65649536de378d6c36a6266b               2            36  Female   \n",
       "57a8abb3dcff7d0001c7d5a3             544            29  Female   \n",
       "5589a309fdf99b7ae5007c33            1119            46    Male   \n",
       "5bb9f9dad5330e000101a241             868            33  Female   \n",
       "5bbe58e22b131d000183c317               1  DATA_EXPIRED    Male   \n",
       "\n",
       "                         Ethnicity simplified Country of birth  \\\n",
       "65649536de378d6c36a6266b                Black    United States   \n",
       "57a8abb3dcff7d0001c7d5a3                White    United States   \n",
       "5589a309fdf99b7ae5007c33                White    United States   \n",
       "5bb9f9dad5330e000101a241                Asian    United States   \n",
       "5bbe58e22b131d000183c317         DATA_EXPIRED    United States   \n",
       "\n",
       "                         Country of residence    Nationality Language  \\\n",
       "65649536de378d6c36a6266b        United States  United States  English   \n",
       "57a8abb3dcff7d0001c7d5a3        United States  United States  English   \n",
       "5589a309fdf99b7ae5007c33        United States  United States  English   \n",
       "5bb9f9dad5330e000101a241        United States  United States  English   \n",
       "5bbe58e22b131d000183c317        United States  United States  English   \n",
       "\n",
       "                         Student status Employment status  \n",
       "65649536de378d6c36a6266b             No         Full-Time  \n",
       "57a8abb3dcff7d0001c7d5a3             No      DATA_EXPIRED  \n",
       "5589a309fdf99b7ae5007c33             No         Full-Time  \n",
       "5bb9f9dad5330e000101a241             No         Full-Time  \n",
       "5bbe58e22b131d000183c317             No      DATA_EXPIRED  \n",
       "\n",
       "[5 rows x 56 columns]"
      ]
     },
     "execution_count": 62,
     "metadata": {},
     "output_type": "execute_result"
    }
   ],
   "source": [
    "total_results = results.join(demographics_real.set_index(\"Participant id\"), how = \"inner\")\n",
    "total_results.head()"
   ]
  },
  {
   "cell_type": "code",
   "execution_count": 71,
   "metadata": {},
   "outputs": [],
   "source": [
    "seperators = [\"Control1_First Click\", \"V1Q_First Click\", \"V2Q_First Click\", \"V3Q_First Click\", \"V4Q_First Click\", \"R1Q_First Click\", \"R2Q_First Click\", \"R3Q_First Click\", \"R4Q_First Click\"]\n",
    "labels = [x.split(\"_\")[0] for x in seperators]"
   ]
  },
  {
   "cell_type": "code",
   "execution_count": 72,
   "metadata": {},
   "outputs": [],
   "source": [
    "pd_dict = {}\n",
    "for i, j in zip(seperators, labels):\n",
    "    temp_df = total_results.loc[total_results[i].notnull()]\n",
    "    temp_df = temp_df.loc[:, [\"Hunt Choice\", \"Weakest Link Choice\"]]\n",
    "    pd_dict[j] = temp_df\n",
    "    temp_df.to_csv(\"results/{}_results.csv\".format(j))"
   ]
  },
  {
   "cell_type": "code",
   "execution_count": 140,
   "metadata": {},
   "outputs": [
    {
     "name": "stderr",
     "output_type": "stream",
     "text": [
      "C:\\Users\\20xha\\AppData\\Local\\Temp\\ipykernel_44060\\336388985.py:10: VisibleDeprecationWarning: Creating an ndarray from ragged nested sequences (which is a list-or-tuple of lists-or-tuples-or ndarrays with different lengths or shapes) is deprecated. If you meant to do this, you must specify 'dtype=object' when creating the ndarray.\n",
      "  s_data_list = np.array(s_data_list)\n",
      "C:\\Users\\20xha\\AppData\\Local\\Temp\\ipykernel_44060\\336388985.py:11: VisibleDeprecationWarning: Creating an ndarray from ragged nested sequences (which is a list-or-tuple of lists-or-tuples-or ndarrays with different lengths or shapes) is deprecated. If you meant to do this, you must specify 'dtype=object' when creating the ndarray.\n",
      "  w_data_list = np.array(w_data_list)\n"
     ]
    }
   ],
   "source": [
    "s_data_list = []\n",
    "w_data_list = []\n",
    "hunt_dict = {\"Hunt stag\": 1, \"Hunt hare\": -1}\n",
    "for i in labels:\n",
    "    data_df = pd_dict[i]\n",
    "    s_data = [hunt_dict[x] for x in data_df[\"Hunt Choice\"]]\n",
    "    w_data = data_df[\"Weakest Link Choice\"]\n",
    "    s_data_list.append(np.array(s_data))\n",
    "    w_data_list.append(np.array(w_data).astype(int))\n",
    "s_data_list = np.array(s_data_list)\n",
    "w_data_list = np.array(w_data_list)"
   ]
  },
  {
   "cell_type": "code",
   "execution_count": 141,
   "metadata": {},
   "outputs": [],
   "source": [
    "w_control = w_data_list[0]\n",
    "s_control = s_data_list[0]"
   ]
  },
  {
   "cell_type": "code",
   "execution_count": 144,
   "metadata": {},
   "outputs": [
    {
     "name": "stdout",
     "output_type": "stream",
     "text": [
      "Control1\n",
      "RanksumsResult(statistic=0.0, pvalue=1.0)\n",
      "RanksumsResult(statistic=0.0, pvalue=1.0)\n",
      "V1Q\n",
      "RanksumsResult(statistic=-1.1520005482454836, pvalue=0.24932084804064525)\n",
      "RanksumsResult(statistic=-0.7586345073811721, pvalue=0.4480712244201124)\n",
      "V2Q\n",
      "RanksumsResult(statistic=-0.2773500981126145, pvalue=0.7815112949987133)\n",
      "RanksumsResult(statistic=-1.0948030188655837, pvalue=0.27360294358903536)\n",
      "V3Q\n",
      "RanksumsResult(statistic=0.1826342332584303, pvalue=0.8550850218287137)\n",
      "RanksumsResult(statistic=1.0817566123768565, pvalue=0.2793606903290696)\n",
      "V4Q\n",
      "RanksumsResult(statistic=-0.16250379109403565, pvalue=0.8709091430964933)\n",
      "RanksumsResult(statistic=0.5552212862379551, pvalue=0.5787433109358779)\n",
      "R1Q\n",
      "RanksumsResult(statistic=0.1826342332584303, pvalue=0.8550850218287137)\n",
      "RanksumsResult(statistic=0.08429272304235245, pvalue=0.9328236979834136)\n",
      "R2Q\n",
      "RanksumsResult(statistic=0.1826342332584303, pvalue=0.8550850218287137)\n",
      "RanksumsResult(statistic=0.1685854460847049, pvalue=0.8661227290418329)\n",
      "R3Q\n",
      "RanksumsResult(statistic=-0.35121967934313525, pvalue=0.7254235474231112)\n",
      "RanksumsResult(statistic=0.37931725369058605, pvalue=0.7044522887447235)\n",
      "R4Q\n",
      "RanksumsResult(statistic=-0.8320502943378436, pvalue=0.40538055645894233)\n",
      "RanksumsResult(statistic=-0.10218161509412114, pvalue=0.9186125203947747)\n"
     ]
    }
   ],
   "source": [
    "for i in range(len(w_data_list)):\n",
    "    print(labels[i])\n",
    "    print(stats.ranksums(s_control, s_data_list[i]))\n",
    "    print(stats.ranksums(w_control, w_data_list[i]))"
   ]
  },
  {
   "cell_type": "code",
   "execution_count": 145,
   "metadata": {},
   "outputs": [],
   "source": [
    "s_data_list_combine = []\n",
    "w_data_list_combine = []\n",
    "hunt_dict = {\"Hunt stag\": 1, \"Hunt hare\": -1}\n",
    "for i in labels[1:len(labels)]:\n",
    "    data_df = pd_dict[i]\n",
    "    s_data = [hunt_dict[x] for x in data_df[\"Hunt Choice\"]]\n",
    "    w_data = data_df[\"Weakest Link Choice\"]\n",
    "    s_data_list_combine.extend(s_data)\n",
    "    w_data_list_combine.extend(list(np.array(w_data).astype(int)))\n",
    "s_data_list_combine = np.array(s_data_list_combine)\n",
    "w_data_list_combine = np.array(w_data_list_combine)"
   ]
  },
  {
   "cell_type": "code",
   "execution_count": 148,
   "metadata": {},
   "outputs": [
    {
     "name": "stdout",
     "output_type": "stream",
     "text": [
      "RanksumsResult(statistic=-0.3674373900588737, pvalue=0.7132927858571936)\n",
      "RanksumsResult(statistic=0.06359493289480507, pvalue=0.9492927665409894)\n"
     ]
    }
   ],
   "source": [
    "print(stats.ranksums(s_control, s_data_list_combine))\n",
    "print(stats.ranksums(w_control, w_data_list_combine))"
   ]
  },
  {
   "cell_type": "code",
   "execution_count": 153,
   "metadata": {},
   "outputs": [],
   "source": [
    "men_data = total_results[total_results[\"Sex\"] == \"Male\"]\n",
    "women_data = total_results[total_results[\"Sex\"] == \"Female\"]"
   ]
  },
  {
   "cell_type": "code",
   "execution_count": 156,
   "metadata": {},
   "outputs": [],
   "source": [
    "hunt_dict = {\"Hunt stag\": 1, \"Hunt hare\": -1}\n",
    "s_m_data = [hunt_dict[x] for x in men_data[\"Hunt Choice\"]]\n",
    "s_f_data = [hunt_dict[x] for x in women_data[\"Hunt Choice\"]]"
   ]
  },
  {
   "cell_type": "code",
   "execution_count": 158,
   "metadata": {},
   "outputs": [
    {
     "name": "stdout",
     "output_type": "stream",
     "text": [
      "RanksumsResult(statistic=-0.2589191112012618, pvalue=0.7956976522687824)\n"
     ]
    }
   ],
   "source": [
    "print(stats.ranksums(s_m_data, s_f_data))"
   ]
  },
  {
   "cell_type": "code",
   "execution_count": 163,
   "metadata": {},
   "outputs": [],
   "source": [
    "w_m_data = [int(x) for x in men_data[\"Weakest Link Choice\"]]\n",
    "w_f_data = [int(x) for x in women_data[\"Weakest Link Choice\"]]"
   ]
  },
  {
   "cell_type": "code",
   "execution_count": 164,
   "metadata": {},
   "outputs": [
    {
     "name": "stdout",
     "output_type": "stream",
     "text": [
      "RanksumsResult(statistic=0.36801424232538904, pvalue=0.7128626144744044)\n"
     ]
    }
   ],
   "source": [
    "print(stats.ranksums(w_m_data, w_f_data))"
   ]
  },
  {
   "cell_type": "code",
   "execution_count": null,
   "metadata": {},
   "outputs": [],
   "source": []
  }
 ],
 "metadata": {
  "kernelspec": {
   "display_name": "ay-ge_107",
   "language": "python",
   "name": "python3"
  },
  "language_info": {
   "codemirror_mode": {
    "name": "ipython",
    "version": 3
   },
   "file_extension": ".py",
   "mimetype": "text/x-python",
   "name": "python",
   "nbconvert_exporter": "python",
   "pygments_lexer": "ipython3",
   "version": "3.10.9"
  }
 },
 "nbformat": 4,
 "nbformat_minor": 2
}
